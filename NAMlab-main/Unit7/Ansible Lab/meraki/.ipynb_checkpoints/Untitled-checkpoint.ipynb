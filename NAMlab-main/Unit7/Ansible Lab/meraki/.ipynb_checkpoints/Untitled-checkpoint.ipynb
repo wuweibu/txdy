{
 "cells": [
  {
   "cell_type": "code",
   "execution_count": 8,
   "metadata": {},
   "outputs": [],
   "source": [
    "import re\n",
    "\n",
    "with open (\"../data/org_id.ansible\") as f:\n",
    "    ori_data = f.read()\n",
    "    \n",
    "pattren = re.compile(r\"u\\'id\\': u\\'[0-9]+\\'\")\n",
    "result = pattren.findall(a)\n",
    "org_id = [id[9:-1] for id in result]\n",
    "org_yaml = \"org_id_list: \"\n",
    "for oid in org_id:\n",
    "    new_oid = \"\\n  - {}\".format(oid)\n",
    "    org_yaml += new_oid\n",
    "\n",
    "with open(\"../var_files/org_id.yaml\") as f:\n",
    "    f.write(org_yaml)"
   ]
  },
  {
   "cell_type": "code",
   "execution_count": 21,
   "metadata": {},
   "outputs": [],
   "source": []
  },
  {
   "cell_type": "code",
   "execution_count": 22,
   "metadata": {},
   "outputs": [],
   "source": []
  },
  {
   "cell_type": "code",
   "execution_count": 24,
   "metadata": {},
   "outputs": [
    {
     "name": "stdout",
     "output_type": "stream",
     "text": [
      "org_id_list: \n",
      "  - 681155\n",
      "  - 575334852396583264\n",
      "  - 575334852396583237\n",
      "  - 575334852396583213\n",
      "  - 573083052582914233\n",
      "  - 575334852396583197\n",
      "  - 575334852396583158\n",
      "  - 575334852396583134\n",
      "  - 575334852396583133\n",
      "  - 575334852396583131\n",
      "  - 575334852396583128\n",
      "  - 575334852396583093\n",
      "  - 575334852396583071\n",
      "  - 575334852396583051\n",
      "  - 575334852396583031\n",
      "  - 575334852396582986\n",
      "  - 575334852396582973\n",
      "  - 575334852396582756\n",
      "  - 575334852396582755\n",
      "  - 575334852396582738\n",
      "  - 575334852396582684\n",
      "  - 566327653141842188\n",
      "  - 575334852396582591\n",
      "  - 549236\n",
      "  - 52636\n",
      "  - 865776\n",
      "  - 463308\n"
     ]
    }
   ],
   "source": [
    "print(org_yaml)"
   ]
  },
  {
   "cell_type": "code",
   "execution_count": 19,
   "metadata": {},
   "outputs": [],
   "source": []
  },
  {
   "cell_type": "code",
   "execution_count": 20,
   "metadata": {},
   "outputs": [
    {
     "data": {
      "text/plain": [
       "['681155',\n",
       " '575334852396583264',\n",
       " '575334852396583237',\n",
       " '575334852396583213',\n",
       " '573083052582914233',\n",
       " '575334852396583197',\n",
       " '575334852396583158',\n",
       " '575334852396583134',\n",
       " '575334852396583133',\n",
       " '575334852396583131',\n",
       " '575334852396583128',\n",
       " '575334852396583093',\n",
       " '575334852396583071',\n",
       " '575334852396583051',\n",
       " '575334852396583031',\n",
       " '575334852396582986',\n",
       " '575334852396582973',\n",
       " '575334852396582756',\n",
       " '575334852396582755',\n",
       " '575334852396582738',\n",
       " '575334852396582684',\n",
       " '566327653141842188',\n",
       " '575334852396582591',\n",
       " '549236',\n",
       " '52636',\n",
       " '865776',\n",
       " '463308']"
      ]
     },
     "execution_count": 20,
     "metadata": {},
     "output_type": "execute_result"
    }
   ],
   "source": [
    "org_id"
   ]
  },
  {
   "cell_type": "code",
   "execution_count": null,
   "metadata": {},
   "outputs": [],
   "source": []
  }
 ],
 "metadata": {
  "kernelspec": {
   "display_name": "Python 3",
   "language": "python",
   "name": "python3"
  },
  "language_info": {
   "codemirror_mode": {
    "name": "ipython",
    "version": 3
   },
   "file_extension": ".py",
   "mimetype": "text/x-python",
   "name": "python",
   "nbconvert_exporter": "python",
   "pygments_lexer": "ipython3",
   "version": "3.7.0"
  }
 },
 "nbformat": 4,
 "nbformat_minor": 2
}
