{
 "cells": [
  {
   "cell_type": "code",
   "execution_count": 1,
   "metadata": {},
   "outputs": [],
   "source": [
    "import requests"
   ]
  },
  {
   "cell_type": "code",
   "execution_count": 4,
   "metadata": {},
   "outputs": [
    {
     "name": "stdout",
     "output_type": "stream",
     "text": [
      "Interface Gi0/2 open again!\n"
     ]
    }
   ],
   "source": [
    "url = \"http://127.0.0.1/api/receive_json\"\n",
    "data = {'device_name': 'cisco8000',\n",
    "        'ip_address': '1.1.1.1',\n",
    "        'if_list': [\n",
    "                {\n",
    "                    'if_name': 'Gi0/1',\n",
    "                    'if_status': 'UP'\n",
    "                },\n",
    "                {\n",
    "                    'if_name': 'Gi0/2',\n",
    "                    'if_status': 'DOWN'\n",
    "                }\n",
    "            ]\n",
    "        }\n",
    "\n",
    "response = requests.post(url, json=data)\n",
    "issue_list = response.json()['result']\n",
    "if issue_list != [] and 'error' not in issue_list:\n",
    "    for if_name in issue_list:\n",
    "        print(f\"Interface {if_name} open again!\")"
   ]
  },
  {
   "cell_type": "code",
   "execution_count": null,
   "metadata": {},
   "outputs": [],
   "source": []
  }
 ],
 "metadata": {
  "kernelspec": {
   "display_name": "Python 3",
   "language": "python",
   "name": "python3"
  },
  "language_info": {
   "codemirror_mode": {
    "name": "ipython",
    "version": 3
   },
   "file_extension": ".py",
   "mimetype": "text/x-python",
   "name": "python",
   "nbconvert_exporter": "python",
   "pygments_lexer": "ipython3",
   "version": "3.9.13"
  }
 },
 "nbformat": 4,
 "nbformat_minor": 2
}
