{
 "cells": [
  {
   "cell_type": "code",
   "execution_count": 3,
   "metadata": {},
   "outputs": [],
   "source": [
    "import json\n",
    "import pandas as pd\n",
    "\n",
    "def json_to_excel(file_path):\n",
    "    with open(file_path) as f:\n",
    "        json_date = json.load(f)\n",
    "    data_list=[]\n",
    "    for one in json_date['datas']:\n",
    "        t_id = one['id']\n",
    "        c_time = one['created_time']['display_value']\n",
    "        pri= one['priority']['name']\n",
    "        site = one['site']['name']\n",
    "        status=one['status']['name']\n",
    "        data_list.append([t_id,c_time,pri,site,status])\n",
    "        pd_data = pd.DataFrame(data_list,columns=['id','hhh','jj','oo','ooo'])\n",
    "        pd_data.to_excel('network.xlsx',index=False)\n",
    "\n",
    "json_to_excel('network_tech.json')\n",
    "\n"
   ]
  },
  {
   "cell_type": "code",
   "execution_count": 4,
   "metadata": {},
   "outputs": [
    {
     "ename": "NameError",
     "evalue": "name 'json_date' is not defined",
     "output_type": "error",
     "traceback": [
      "\u001b[1;31m---------------------------------------------------------------------------\u001b[0m",
      "\u001b[1;31mNameError\u001b[0m                                 Traceback (most recent call last)",
      "Cell \u001b[1;32mIn[4], line 1\u001b[0m\n\u001b[1;32m----> 1\u001b[0m create_time  \u001b[38;5;241m=\u001b[39m\u001b[43mjson_date\u001b[49m[\u001b[38;5;124m'\u001b[39m\u001b[38;5;124mdatas\u001b[39m\u001b[38;5;124m'\u001b[39m][\u001b[38;5;241m0\u001b[39m][\u001b[38;5;124m'\u001b[39m\u001b[38;5;124mcreated_time\u001b[39m\u001b[38;5;124m'\u001b[39m][\u001b[38;5;124m'\u001b[39m\u001b[38;5;124mdisplay_value\u001b[39m\u001b[38;5;124m'\u001b[39m]\n\u001b[0;32m      2\u001b[0m priority \u001b[38;5;241m=\u001b[39m json_date[\u001b[38;5;124m'\u001b[39m\u001b[38;5;124mdatas\u001b[39m\u001b[38;5;124m'\u001b[39m][\u001b[38;5;241m0\u001b[39m][\u001b[38;5;124m'\u001b[39m\u001b[38;5;124mpriority\u001b[39m\u001b[38;5;124m'\u001b[39m][\u001b[38;5;124m'\u001b[39m\u001b[38;5;124mname\u001b[39m\u001b[38;5;124m'\u001b[39m]\n",
      "\u001b[1;31mNameError\u001b[0m: name 'json_date' is not defined"
     ]
    }
   ],
   "source": [
    "create_time  =json_date['datas'][0]['created_time']['display_value']\n",
    "priority = json_date['datas'][0]['priority']['name']"
   ]
  },
  {
   "cell_type": "code",
   "execution_count": null,
   "metadata": {},
   "outputs": [
    {
     "data": {
      "text/plain": [
       "'S2 - High'"
      ]
     },
     "execution_count": 4,
     "metadata": {},
     "output_type": "execute_result"
    }
   ],
   "source": [
    "create_time\n",
    "priority"
   ]
  }
 ],
 "metadata": {
  "kernelspec": {
   "display_name": "Python 3",
   "language": "python",
   "name": "python3"
  },
  "language_info": {
   "codemirror_mode": {
    "name": "ipython",
    "version": 3
   },
   "file_extension": ".py",
   "mimetype": "text/x-python",
   "name": "python",
   "nbconvert_exporter": "python",
   "pygments_lexer": "ipython3",
   "version": "3.11.6"
  }
 },
 "nbformat": 4,
 "nbformat_minor": 2
}
