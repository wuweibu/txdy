{
 "cells": [
  {
   "cell_type": "code",
   "execution_count": 2,
   "metadata": {},
   "outputs": [
    {
     "data": {
      "text/plain": [
       "[['172.20.1.254', 'huawei_vrrpv8', 'huawei', 'huawei@123']]"
      ]
     },
     "execution_count": 2,
     "metadata": {},
     "output_type": "execute_result"
    }
   ],
   "source": [
    "from netmiko import ConnectHandler\n",
    "import pandas as pd\n",
    "import json\n",
    "\n",
    "\n",
    "def get_login_info(excel_path):\n",
    "     excel = pd.read_excel(excel_path)\n",
    "     # dtype,ip,username,password\n",
    "     data_list = []\n",
    "     for i in range(excel.shape[0]):                        #循环取出每行数据\n",
    "         line = excel.loc[i].values.tolist()\n",
    "         data_list.append(line)\n",
    "         return data_list\n",
    "\n",
    "get_login_info('网络资产.xlsx')"
   ]
  }
 ],
 "metadata": {
  "kernelspec": {
   "display_name": "Python 3",
   "language": "python",
   "name": "python3"
  },
  "language_info": {
   "codemirror_mode": {
    "name": "ipython",
    "version": 3
   },
   "file_extension": ".py",
   "mimetype": "text/x-python",
   "name": "python",
   "nbconvert_exporter": "python",
   "pygments_lexer": "ipython3",
   "version": "3.11.6"
  }
 },
 "nbformat": 4,
 "nbformat_minor": 2
}
